{
 "cells": [
  {
   "cell_type": "code",
   "execution_count": 2,
   "id": "35f027ff",
   "metadata": {},
   "outputs": [],
   "source": [
    "from telegram import Update\n",
    "from telegram.ext import (Updater, CommandHandler, MessageHandler, Filters,CallbackContext)\n",
    "import configparser\n",
    "import logging\n",
    "import redis"
   ]
  },
  {
   "cell_type": "code",
   "execution_count": 1,
   "id": "80d3b447",
   "metadata": {},
   "outputs": [],
   "source": [
    "from ChatGPT_HKBU import HKBU_CHATGPT"
   ]
  },
  {
   "cell_type": "code",
   "execution_count": 3,
   "id": "4793b938",
   "metadata": {},
   "outputs": [],
   "source": [
    "global redis1"
   ]
  },
  {
   "cell_type": "code",
   "execution_count": 4,
   "id": "128b266e",
   "metadata": {},
   "outputs": [],
   "source": [
    "def equiped_chatgpt(update,context):\n",
    "    global chatgpt\n",
    "    reply_message=chatgpt.submit(update.message.text)\n",
    "    context.bot.send_message(chat_id=update.effective_chat.id,text=reply_message)\n",
    "    "
   ]
  },
  {
   "cell_type": "code",
   "execution_count": 8,
   "id": "8728b4ad",
   "metadata": {},
   "outputs": [
    {
     "name": "stdout",
     "output_type": "stream",
     "text": [
      "url:  https://chatgpt.hkbu.edu.hk/general/rest/deployments/gpt-35-turbo-16k/chat/completions/?api-version=2023-08-01-preview\n",
      "url:  https://chatgpt.hkbu.edu.hk/general/rest/deployments/gpt-35-turbo-16k/chat/completions/?api-version=2023-08-01-preview\n",
      "url:  https://chatgpt.hkbu.edu.hk/general/rest/deployments/gpt-35-turbo-16k/chat/completions/?api-version=2023-08-01-preview\n",
      "url:  https://chatgpt.hkbu.edu.hk/general/rest/deployments/gpt-35-turbo-16k/chat/completions/?api-version=2023-08-01-preview\n"
     ]
    }
   ],
   "source": [
    "\n",
    "\n",
    "def main():\n",
    "# Load your token and create an Updater for your Bot\n",
    "    config = configparser.ConfigParser()\n",
    "    config.read('config.ini')\n",
    "    updater = Updater(token=(config['TELEGRAM']['ACCESS_TOKEN']), use_context=True)\n",
    "    dispatcher = updater.dispatcher\n",
    "    global redis1\n",
    "    redis1=redis.Redis(host=(config['REDIS']['HOST']),\n",
    "                      password=(config['REDIS']['PASSWORD']),\n",
    "                       port=(config['REDIS']['REDISPORT']),\n",
    "                      )\n",
    "    # You can set this logging module, so you will know when and why things do not work a\n",
    "#     logging.basicConfig(format='%(asctime)s - %(name)s - %(levelname)s - %(message)s', le)\n",
    "    # register a dispatcher to handle message: here we register an echo dispatcher\n",
    "#     echo_handler = MessageHandler(Filters.text & (~Filters.command), echo)\n",
    "#     dispatcher.add_handler(echo_handler)\n",
    "    \n",
    "    \n",
    "    global chatgpt\n",
    "    chatgpt=HKBU_CHATGPT()\n",
    "    chatgpt_handler=MessageHandler(Filters.text&(~Filters.command),equiped_chatgpt)\n",
    "    dispatcher.add_handler(chatgpt_handler)\n",
    "    \n",
    "    \n",
    "    dispatcher.add_handler(CommandHandler('add',add))\n",
    "    dispatcher.add_handler(CommandHandler('help',help_command))\n",
    "    \n",
    "    # To start the bot:\n",
    "    updater.start_polling()\n",
    "    updater.idle()\n",
    "                        \n",
    "def echo(update, context):\n",
    "    reply_message = update.message.text.upper()\n",
    "    logging.info(\"Update: \" + str(update))\n",
    "    logging.info(\"context: \" + str(context))\n",
    "    context.bot.send_message(chat_id=update.effective_chat.id, text= reply_message)\n",
    "    \n",
    "    \n",
    "def add(update,context):\n",
    "    try:\n",
    "        global redis1\n",
    "        msg=context.args[0]\n",
    "        redis1.incr(msg)\n",
    "        \n",
    "        update.message.reply_text('You have said '+msg+' for '+redis1.get(msg).decode('UTF-8')+' times.')\n",
    "\n",
    "    except(IndexError,ValueError):\n",
    "        update.message.reply_text('Usage:/add <keyword>')\n",
    "\n",
    "def help_command(update,context):\n",
    "    update.message.reply_text('Helping you helping you.')\n",
    "    \n",
    "\n",
    "if __name__ == '__main__':\n",
    "    main()\n"
   ]
  },
  {
   "cell_type": "code",
   "execution_count": null,
   "id": "1a3b6765",
   "metadata": {},
   "outputs": [],
   "source": []
  }
 ],
 "metadata": {
  "kernelspec": {
   "display_name": "Python 3 (ipykernel)",
   "language": "python",
   "name": "python3"
  },
  "language_info": {
   "codemirror_mode": {
    "name": "ipython",
    "version": 3
   },
   "file_extension": ".py",
   "mimetype": "text/x-python",
   "name": "python",
   "nbconvert_exporter": "python",
   "pygments_lexer": "ipython3",
   "version": "3.9.13"
  }
 },
 "nbformat": 4,
 "nbformat_minor": 5
}
