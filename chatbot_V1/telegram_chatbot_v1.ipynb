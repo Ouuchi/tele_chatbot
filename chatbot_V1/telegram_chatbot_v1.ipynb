{
 "cells": [
  {
   "cell_type": "code",
   "execution_count": 1,
   "id": "fe55de02",
   "metadata": {},
   "outputs": [],
   "source": [
    "import configparser"
   ]
  },
  {
   "cell_type": "code",
   "execution_count": 3,
   "id": "2413b020",
   "metadata": {},
   "outputs": [
    {
     "name": "stdout",
     "output_type": "stream",
     "text": [
      "6830559685:AAHmyWbtz7Lf5kmDxOZ2xUp-0LQm2w2Ptl0\n"
     ]
    }
   ],
   "source": [
    "import configparser\n",
    "config = configparser.ConfigParser()\n",
    "config.read('config.ini')\n",
    "print(config['TELEGRAM']['ACCESS_TOKEN'])"
   ]
  },
  {
   "cell_type": "code",
   "execution_count": 4,
   "id": "8f22f12f",
   "metadata": {},
   "outputs": [],
   "source": [
    "## this file is based on version 13.7 of python telegram chatbot and version 1.26.18 of u\n",
    "## chatbot.py\n",
    "import telegram\n",
    "from telegram.ext import Updater, MessageHandler, Filters\n",
    "# The messageHandler is used for all message updates\n",
    "import configparser\n",
    "import logging"
   ]
  },
  {
   "cell_type": "code",
   "execution_count": 7,
   "id": "8728b4ad",
   "metadata": {},
   "outputs": [],
   "source": [
    "\n",
    "\n",
    "def main():\n",
    "# Load your token and create an Updater for your Bot\n",
    "    config = configparser.ConfigParser()\n",
    "    config.read('config.ini')\n",
    "    updater = Updater(token=(config['TELEGRAM']['ACCESS_TOKEN']), use_context=True)\n",
    "    dispatcher = updater.dispatcher\n",
    "    # You can set this logging module, so you will know when and why things do not work a\n",
    "#     logging.basicConfig(format='%(asctime)s - %(name)s - %(levelname)s - %(message)s', le)\n",
    "    # register a dispatcher to handle message: here we register an echo dispatcher\n",
    "    echo_handler = MessageHandler(Filters.text & (~Filters.command), echo)\n",
    "    dispatcher.add_handler(echo_handler)\n",
    "    # To start the bot:\n",
    "    updater.start_polling()\n",
    "    updater.idle()\n",
    "                        \n",
    "def echo(update, context):\n",
    "    reply_message = update.message.text.upper()\n",
    "    logging.info(\"Update: \" + str(update))\n",
    "    logging.info(\"context: \" + str(context))\n",
    "    context.bot.send_message(chat_id=update.effective_chat.id, text= reply_message)\n",
    "if __name__ == '__main__':\n",
    "    main()\n"
   ]
  },
  {
   "cell_type": "code",
   "execution_count": null,
   "id": "1a3b6765",
   "metadata": {},
   "outputs": [],
   "source": []
  }
 ],
 "metadata": {
  "kernelspec": {
   "display_name": "Python 3 (ipykernel)",
   "language": "python",
   "name": "python3"
  },
  "language_info": {
   "codemirror_mode": {
    "name": "ipython",
    "version": 3
   },
   "file_extension": ".py",
   "mimetype": "text/x-python",
   "name": "python",
   "nbconvert_exporter": "python",
   "pygments_lexer": "ipython3",
   "version": "3.11.3"
  }
 },
 "nbformat": 4,
 "nbformat_minor": 5
}
